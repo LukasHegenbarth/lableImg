{
 "cells": [
  {
   "cell_type": "code",
   "execution_count": 1,
   "metadata": {},
   "outputs": [],
   "source": [
    "import sys\n",
    "import xml.etree.ElementTree as ET\n",
    "import numpy as np\n",
    "from  scipy.spatial.distance import cdist\n",
    "import glob\n",
    "import time\n",
    "import cv2\n",
    "import matplotlib.pyplot as plt "
   ]
  },
  {
   "cell_type": "code",
   "execution_count": 12,
   "metadata": {},
   "outputs": [],
   "source": [
    "def get_data_from_xml(xml):\n",
    "    tree = ET.parse(xml)\n",
    "    root = tree.getroot()\n",
    "    num_objects = (len(root.findall('object')))\n",
    "    bbox_array = np.empty([num_objects,4], dtype=int)\n",
    "    object_type_list = []\n",
    "\n",
    "    for idx,  annotation_object in enumerate(root.findall('object')):\n",
    "        object_type = annotation_object.find('name').text\n",
    "        object_type_list.append(object_type)\n",
    "        bbox = annotation_object.find('bndbox')\n",
    "        xmin = bbox.find('xmin').text\n",
    "        ymin = bbox.find('ymin').text\n",
    "        xmax = bbox.find('xmax').text\n",
    "        ymax = bbox.find('ymax').text\n",
    "        bbox_array[idx][:] = [xmin, ymin, xmax, ymax]\n",
    " \n",
    "    return object_type_list, bbox_array\n",
    "\n",
    "def calc_min_distance(points_2d):\n",
    "    distance_mat = cdist(points_2d, points_2d)\n",
    "    #print(distance_mat)\n",
    "    min_distance = np.Inf   \n",
    "    row_idx, col_idx = np.triu_indices(distance_mat.shape[0],1)\n",
    "    for i in range(len(row_idx)):\n",
    "        if distance_mat[row_idx[i], col_idx[i]] < min_distance:\n",
    "            min_distance = distance_mat[row_idx[i], col_idx[i]]\n",
    "  \n",
    "    return min_distance\n"
   ]
  },
  {
   "cell_type": "code",
   "execution_count": 13,
   "metadata": {},
   "outputs": [],
   "source": [
    "def bbox_intersection_over_union(boxA, boxB):\n",
    "    # determine the (x, y)-coordinates of the intersection rectangle\n",
    "    xA = max(boxA[0], boxB[0])\n",
    "    yA = max(boxA[1], boxB[1])\n",
    "    xB = min(boxA[2], boxB[2])\n",
    "    yB = min(boxA[3], boxB[3])\n",
    "    # compute the area of intersection rectangle\n",
    "    interArea = max(0, xB - xA + 1) * max(0, yB - yA + 1)\n",
    "    # compute the area of both the prediction and ground-truth\n",
    "    # rectangles\n",
    "    boxAArea = (boxA[2] - boxA[0] + 1) * (boxA[3] - boxA[1] + 1)\n",
    "    boxBArea = (boxB[2] - boxB[0] + 1) * (boxB[3] - boxB[1] + 1)\n",
    "    # compute the intersection over union by taking the intersection\n",
    "    # area and dividing it by the sum of prediction + ground-truth\n",
    "    # areas - the interesection area\n",
    "    iou = interArea / float(boxAArea + boxBArea - interArea)\n",
    "    # return the intersection over union value\n",
    "    return iou"
   ]
  },
  {
   "cell_type": "code",
   "execution_count": 25,
   "metadata": {},
   "outputs": [
    {
     "name": "stdout",
     "output_type": "stream",
     "text": [
      "/home/lukas/Videos/sugarbeet_2021/23_05_2021/2021-05-14_07-27-18_camera_1\n",
      "0\n",
      "[0.         2.17058824 0.45730028 ... 0.67204301 1.52571429 0.8423913 ]\n"
     ]
    }
   ],
   "source": [
    "f = open(\"/home/lukas/Videos/sugarbeet_2021/gelabelt.txt\", \"r\")\n",
    "folder_list = f.read().split(\"\\n\")\n",
    "print(folder_list[1])\n",
    "\n",
    "ratio_x = np.array(0)\n",
    "ratio_y = np.array(0)\n",
    "\n",
    "print(ratio)\n",
    "\n",
    "for folder in folder_list:\n",
    "    xml_list = glob.glob(folder + '/*.xml')\n",
    "    for xml in xml_list:\n",
    "        object_type_list, bbox_array = get_data_from_xml(xml)\n",
    "        ratio_x = np.append(ratio_x, (bbox_array[:,2] - bbox_array[:,0]) / (bbox_array[:,3] - bbox_array[:,1]))\n",
    "        \n",
    "print(ratio_x)\n",
    "    "
   ]
  },
  {
   "cell_type": "code",
   "execution_count": 49,
   "metadata": {},
   "outputs": [
    {
     "data": {
      "text/plain": [
       "(array([1.000e+00, 1.000e+00, 3.100e+01, 1.610e+02, 5.090e+02, 9.300e+02,\n",
       "        1.220e+03, 1.431e+03, 1.401e+03, 1.374e+03, 1.191e+03, 1.146e+03,\n",
       "        9.210e+02, 7.520e+02, 6.670e+02, 5.410e+02, 4.180e+02, 3.750e+02,\n",
       "        2.830e+02, 2.020e+02, 1.930e+02, 1.580e+02, 1.350e+02, 1.070e+02,\n",
       "        9.100e+01, 8.200e+01, 5.800e+01, 5.200e+01, 5.400e+01, 3.700e+01,\n",
       "        2.900e+01, 2.500e+01, 3.000e+01, 2.000e+01, 2.700e+01, 1.800e+01,\n",
       "        1.800e+01, 1.900e+01, 7.000e+00, 1.300e+01, 1.400e+01, 1.200e+01,\n",
       "        5.000e+00, 3.000e+00, 1.000e+01, 4.000e+00, 9.000e+00, 4.000e+00,\n",
       "        3.000e+00, 6.000e+00, 2.000e+00, 2.000e+00, 5.000e+00, 6.000e+00,\n",
       "        2.000e+00, 0.000e+00, 1.000e+00, 3.000e+00, 2.000e+00, 1.000e+00,\n",
       "        0.000e+00, 3.000e+00, 1.000e+00, 1.000e+00, 1.000e+00, 1.000e+00,\n",
       "        2.000e+00, 0.000e+00, 3.000e+00, 1.000e+00, 1.000e+00, 1.000e+00,\n",
       "        0.000e+00, 0.000e+00, 1.000e+00, 1.000e+00, 3.000e+00, 0.000e+00,\n",
       "        0.000e+00, 0.000e+00, 1.000e+00, 0.000e+00, 1.000e+00, 0.000e+00,\n",
       "        1.000e+00, 0.000e+00, 0.000e+00, 0.000e+00, 0.000e+00, 2.000e+00,\n",
       "        0.000e+00, 1.000e+00, 1.000e+00, 0.000e+00, 0.000e+00, 0.000e+00,\n",
       "        0.000e+00, 0.000e+00, 0.000e+00, 1.000e+00]),\n",
       " array([ 0.   ,  0.105,  0.21 ,  0.315,  0.42 ,  0.525,  0.63 ,  0.735,\n",
       "         0.84 ,  0.945,  1.05 ,  1.155,  1.26 ,  1.365,  1.47 ,  1.575,\n",
       "         1.68 ,  1.785,  1.89 ,  1.995,  2.1  ,  2.205,  2.31 ,  2.415,\n",
       "         2.52 ,  2.625,  2.73 ,  2.835,  2.94 ,  3.045,  3.15 ,  3.255,\n",
       "         3.36 ,  3.465,  3.57 ,  3.675,  3.78 ,  3.885,  3.99 ,  4.095,\n",
       "         4.2  ,  4.305,  4.41 ,  4.515,  4.62 ,  4.725,  4.83 ,  4.935,\n",
       "         5.04 ,  5.145,  5.25 ,  5.355,  5.46 ,  5.565,  5.67 ,  5.775,\n",
       "         5.88 ,  5.985,  6.09 ,  6.195,  6.3  ,  6.405,  6.51 ,  6.615,\n",
       "         6.72 ,  6.825,  6.93 ,  7.035,  7.14 ,  7.245,  7.35 ,  7.455,\n",
       "         7.56 ,  7.665,  7.77 ,  7.875,  7.98 ,  8.085,  8.19 ,  8.295,\n",
       "         8.4  ,  8.505,  8.61 ,  8.715,  8.82 ,  8.925,  9.03 ,  9.135,\n",
       "         9.24 ,  9.345,  9.45 ,  9.555,  9.66 ,  9.765,  9.87 ,  9.975,\n",
       "        10.08 , 10.185, 10.29 , 10.395, 10.5  ]),\n",
       " <a list of 100 Patch objects>)"
      ]
     },
     "execution_count": 49,
     "metadata": {},
     "output_type": "execute_result"
    },
    {
     "data": {
      "image/png": "[encoded data removed]",
      "text/plain": [
       "<Figure size 432x288 with 1 Axes>"
      ]
     },
     "metadata": {
      "needs_background": "light"
     },
     "output_type": "display_data"
    }
   ],
   "source": [
    "plt.hist(ratio_x, bins=100)"
   ]
  },
  {
   "cell_type": "markdown",
   "metadata": {},
   "source": [
    "anchors:\n",
    "0.3\n",
    "0.5\n",
    "0.75\n",
    "1\n",
    "1.3333\n",
    "2\n",
    "3.3333"
   ]
  }
 ],
 "metadata": {
  "kernelspec": {
   "display_name": "Python 3",
   "language": "python",
   "name": "python3"
  },
  "language_info": {
   "codemirror_mode": {
    "name": "ipython",
    "version": 3
   },
   "file_extension": ".py",
   "mimetype": "text/x-python",
   "name": "python",
   "nbconvert_exporter": "python",
   "pygments_lexer": "ipython3",
   "version": "3.6.9"
  }
 },
 "nbformat": 4,
 "nbformat_minor": 4
}
